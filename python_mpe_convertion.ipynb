{
 "cells": [
  {
   "cell_type": "markdown",
   "id": "96ac3553",
   "metadata": {},
   "source": [
    "sudo apt-get update\n",
    "sudo apt-get install ffmpeg"
   ]
  },
  {
   "cell_type": "code",
   "execution_count": 8,
   "id": "34553ca6",
   "metadata": {},
   "outputs": [],
   "source": [
    "from pydub import AudioSegment"
   ]
  },
  {
   "cell_type": "code",
   "execution_count": 9,
   "id": "348cfd42",
   "metadata": {},
   "outputs": [],
   "source": [
    "audio = AudioSegment.from_mp3(\"src/sonidos/Peaceful Oasis (cdef6aa6cf2f4941a19c48303fa7c8e8).mp3\")"
   ]
  },
  {
   "cell_type": "code",
   "execution_count": 11,
   "id": "94576690",
   "metadata": {},
   "outputs": [
    {
     "data": {
      "text/plain": [
       "<_io.BufferedRandom name='./src/sonidos/music_background_1.ogg'>"
      ]
     },
     "execution_count": 11,
     "metadata": {},
     "output_type": "execute_result"
    }
   ],
   "source": [
    "audio.export(\"./src/sonidos/music_background_1.ogg\", format=\"ogg\")"
   ]
  }
 ],
 "metadata": {
  "kernelspec": {
   "display_name": "Python 3",
   "language": "python",
   "name": "python3"
  },
  "language_info": {
   "codemirror_mode": {
    "name": "ipython",
    "version": 3
   },
   "file_extension": ".py",
   "mimetype": "text/x-python",
   "name": "python",
   "nbconvert_exporter": "python",
   "pygments_lexer": "ipython3",
   "version": "3.12.1"
  }
 },
 "nbformat": 4,
 "nbformat_minor": 5
}
